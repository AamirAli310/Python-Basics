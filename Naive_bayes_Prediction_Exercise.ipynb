{
  "nbformat": 4,
  "nbformat_minor": 0,
  "metadata": {
    "colab": {
      "provenance": [],
      "authorship_tag": "ABX9TyOpInKcWieNMlk7vUmA83V0",
      "include_colab_link": true
    },
    "kernelspec": {
      "name": "python3",
      "display_name": "Python 3"
    },
    "language_info": {
      "name": "python"
    }
  },
  "cells": [
    {
      "cell_type": "markdown",
      "metadata": {
        "id": "view-in-github",
        "colab_type": "text"
      },
      "source": [
        "<a href=\"https://colab.research.google.com/github/AamirAli310/Python-Basics/blob/main/Naive_bayes_Prediction_Exercise.ipynb\" target=\"_parent\"><img src=\"https://colab.research.google.com/assets/colab-badge.svg\" alt=\"Open In Colab\"/></a>"
      ]
    },
    {
      "cell_type": "code",
      "execution_count": 1,
      "metadata": {
        "colab": {
          "base_uri": "https://localhost:8080/"
        },
        "id": "_V3yRPGHzP4V",
        "outputId": "02177ec2-2586-4168-a0e8-c544ed39936a"
      },
      "outputs": [
        {
          "output_type": "stream",
          "name": "stdout",
          "text": [
            "  AgeGroup  Income MaritalStatus WillPurchase\n",
            "0    YOUNG     LOW       MARRIED           NO\n",
            "1   MIDDLE    HIGH        SINGLE          YES\n",
            "2      OLD  MEDIUM       MARRIED           NO\n",
            "3   MIDDLE     LOW        SINGLE           NO\n",
            "4    YOUNG    HIGH       MARRIED          YES\n",
            "5      OLD  MEDIUM        SINGLE           NO\n",
            "6   MIDDLE  MEDIUM       MARRIED          YES\n",
            "7    YOUNG     LOW        SINGLE           NO\n"
          ]
        }
      ],
      "source": [
        "import pandas as pd\n",
        "import numpy as np\n",
        "from sklearn.preprocessing import LabelEncoder\n",
        "\n",
        "data = {\n",
        "    'AgeGroup':['YOUNG','MIDDLE','OLD','MIDDLE','YOUNG','OLD','MIDDLE','YOUNG'],\n",
        "    'Income':['LOW','HIGH','MEDIUM','LOW','HIGH','MEDIUM','MEDIUM','LOW'],\n",
        "    # 'Gender':['MALE','FEMALE','MALE','FEMALE','MALE','FEMALE','FEMALE','MALE'],\n",
        "    'MaritalStatus':['MARRIED','SINGLE','MARRIED','SINGLE','MARRIED','SINGLE','MARRIED','SINGLE'],\n",
        "    'WillPurchase':['NO','YES','NO','NO','YES','NO','YES','NO']\n",
        "}\n",
        "\n",
        "#converting data into dataframe object\n",
        "df = pd.DataFrame(data)\n",
        "\n",
        "#Storing Categorical data in variables\n",
        "encoders = {} #To store LabelEncoder dictionary\n",
        "encodedDF = pd.DataFrame()\n",
        "\n",
        "print(df)\n"
      ]
    },
    {
      "cell_type": "code",
      "source": [
        "for column in df.columns:\n",
        "  encoders[column] = LabelEncoder()\n",
        "  encodedDF[column] = encoders[column].fit_transform(df[column])\n",
        "print(\"Encoder Label:\")\n",
        "print(encoders)\n",
        "print(\"Encoded DF:\")\n",
        "print(encodedDF)\n"
      ],
      "metadata": {
        "colab": {
          "base_uri": "https://localhost:8080/"
        },
        "id": "wGX_Oewf4K8H",
        "outputId": "155f5bab-a88f-49d8-df80-a2fd86268be0"
      },
      "execution_count": 2,
      "outputs": [
        {
          "output_type": "stream",
          "name": "stdout",
          "text": [
            "Encoder Label:\n",
            "{'AgeGroup': LabelEncoder(), 'Income': LabelEncoder(), 'MaritalStatus': LabelEncoder(), 'WillPurchase': LabelEncoder()}\n",
            "Encoded DF:\n",
            "   AgeGroup  Income  MaritalStatus  WillPurchase\n",
            "0         2       1              0             0\n",
            "1         0       0              1             1\n",
            "2         1       2              0             0\n",
            "3         0       1              1             0\n",
            "4         2       0              0             1\n",
            "5         1       2              1             0\n",
            "6         0       2              0             1\n",
            "7         2       1              1             0\n"
          ]
        }
      ]
    },
    {
      "cell_type": "code",
      "source": [
        "#Data spliting (X) and (Y) for model training\n",
        "XData = encodedDF.drop('WillPurchase', axis=1)\n",
        "print(\"X Data: \\n\", XData)\n",
        "YData = encodedDF['WillPurchase']\n",
        "print(\"Y Data: \\n\", YData)"
      ],
      "metadata": {
        "colab": {
          "base_uri": "https://localhost:8080/"
        },
        "id": "jua2ZjqG5zzd",
        "outputId": "422d9377-96e9-4ca9-f66b-7f35fe21dd86"
      },
      "execution_count": 4,
      "outputs": [
        {
          "output_type": "stream",
          "name": "stdout",
          "text": [
            "X Data: \n",
            "    AgeGroup  Income  MaritalStatus\n",
            "0         2       1              0\n",
            "1         0       0              1\n",
            "2         1       2              0\n",
            "3         0       1              1\n",
            "4         2       0              0\n",
            "5         1       2              1\n",
            "6         0       2              0\n",
            "7         2       1              1\n",
            "Y Data: \n",
            " 0    0\n",
            "1    1\n",
            "2    0\n",
            "3    0\n",
            "4    1\n",
            "5    0\n",
            "6    1\n",
            "7    0\n",
            "Name: WillPurchase, dtype: int64\n"
          ]
        }
      ]
    },
    {
      "cell_type": "code",
      "source": [
        "from sklearn.naive_bayes import CategoricalNB\n",
        "\n",
        "model = CategoricalNB() #Model reference\n",
        "model.fit(XData, YData) #Training Model from Input Data\n",
        "\n",
        "#INPUT QUERY FOR PREDICTION\n",
        "query_dic =  {\n",
        "    'AgeGroup':'MIDDLE',\n",
        "    'Income':'LOW',\n",
        "    'MaritalStatus':'SINGLE'\n",
        "}\n",
        "\n",
        "for col in query_dic:\n",
        "  print(col, query_dic[col])\n",
        "\n",
        "\n",
        "\n",
        "#Converting query data into Encoded format to be use for model prediction\n",
        "query_encoded = pd.DataFrame([[encoders[col].transform([query_dic[col]])[0] for col in query_dic]],columns=query_dic.keys())\n",
        "\n",
        "\n",
        "prediction = model.predict(query_encoded)\n",
        "print(\"Prediction Result is: \\n\", prediction)\n",
        "pred_label = encoders['WillPurchase'].inverse_transform(prediction) #To convert back into actual value of the label\n",
        "print(\"Prediction Label: \\n\", pred_label)"
      ],
      "metadata": {
        "colab": {
          "base_uri": "https://localhost:8080/"
        },
        "id": "KyGKLHl97UTT",
        "outputId": "bcbeaf1b-9ebd-4bbe-9d54-c2eaf8eda5da"
      },
      "execution_count": 8,
      "outputs": [
        {
          "output_type": "stream",
          "name": "stdout",
          "text": [
            "AgeGroup MIDDLE\n",
            "Income LOW\n",
            "MaritalStatus SINGLE\n",
            "Prediction Result is: \n",
            " [0]\n",
            "Prediction Label: \n",
            " ['NO']\n"
          ]
        }
      ]
    }
  ]
}