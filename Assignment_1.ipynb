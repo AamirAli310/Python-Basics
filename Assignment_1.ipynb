{
  "nbformat": 4,
  "nbformat_minor": 0,
  "metadata": {
    "colab": {
      "provenance": [],
      "toc_visible": true,
      "authorship_tag": "ABX9TyOiBLvZVFkstcfk/ZwKodGh",
      "include_colab_link": true
    },
    "kernelspec": {
      "name": "python3",
      "display_name": "Python 3"
    },
    "language_info": {
      "name": "python"
    }
  },
  "cells": [
    {
      "cell_type": "markdown",
      "metadata": {
        "id": "view-in-github",
        "colab_type": "text"
      },
      "source": [
        "<a href=\"https://colab.research.google.com/github/AamirAli310/Python-Basics/blob/main/Assignment_1.ipynb\" target=\"_parent\"><img src=\"https://colab.research.google.com/assets/colab-badge.svg\" alt=\"Open In Colab\"/></a>"
      ]
    },
    {
      "cell_type": "code",
      "execution_count": null,
      "metadata": {
        "id": "gOUxXqT3xBC7"
      },
      "outputs": [],
      "source": []
    },
    {
      "cell_type": "markdown",
      "source": [
        "**Assignment Task # 3 (About Matrices)**\n",
        "**Task Detail**: Consider the 3x3 matrix A, given by:\n",
        "\n",
        "A =\n",
        "\n",
        "1.\tCalculate the inverse of matrix A, denoted as A-1.\n",
        "2.\tShow that A * A-1 = A-1 * A = I, where I is the 3x3 identity matrix.\n"
      ],
      "metadata": {
        "id": "OANQdOZwxC7m"
      }
    },
    {
      "cell_type": "code",
      "source": [
        "#Importing Numpy lib to create & perform required task\n",
        "import numpy as np #given alias np\n",
        "\n",
        "#defining a Matrix & referance it in variable named Mat_A using np.array function\n",
        "Mat_A = np.array([[2,3,5],[1,-4,2],[3,1,-1]])\n",
        "print(\"Matrix Mat_A : \\n\", Mat_A)\n",
        "\n",
        "#____________________________________________________________#\n",
        "#TASK 3_1.\tCalculate the inverse of matrix A, denoted as A-1:\n",
        "#_____________________SOLUTION_______________________________#\n",
        "#____We'll find determinant of A first, If it's non-zero then#\n",
        "#____proceed for Inverse of Mat_A____________________________#\n",
        "\n",
        "#Using numpy Linear Algebra function DET to find determinant of Mat A:\n",
        "Det_Mat_A = np.linalg.det(Mat_A)\n",
        "\n",
        "#Checked if Determinant is Zero or NOT\n",
        "if(Det_Mat_A != 0): #So we can proceed for Inverse of matrix now.\n",
        "  print(\"\\n\\n Determinant of Mat_A is :\\n\", Det_Mat_A)\n",
        "\n",
        "  #Finding inverse of Mat_A using numpy linear Algebra fun INV\n",
        "  Inv_Mat_A = np.linalg.inv(Mat_A)\n",
        "  print(\"\\n\\n Inverse of Mat_A is: \\n\",Inv_Mat_A)\n",
        "\n",
        "  #________________________________________________________________________________#\n",
        "  #TASK 3_2.\tShow that A * A-1 = A-1 * A = I, where I is the 3x3 identity matrix.:\n",
        "  #___________________________________SOLUTION_____________________________________#\n",
        "  #____We've already Matrix A & Inverse of Mat_A. So we'll use Numpy Dot function  #\n",
        "  #_to multiply Mat_A with Inv_Mat_A & save resultant Matrix in LHS_A and RHS_A____#\n",
        "\n",
        "  #Multiply Mat_A with Invrse of Mat_A using Numpy DOT function & storing resultant matrix in LHS_A\n",
        "  LHS_A = np.dot(Mat_A,Inv_Mat_A)\n",
        "  print(\"\\n\\n Mat_A * Inv_Mat_A = \\n\", LHS_A)\n",
        "\n",
        "  #Multiply Invrse of Mat_A with Mat_A using Numpy DOT function & storing resultant matrix in RHS_A\n",
        "  RHS_A = np.dot(Inv_Mat_A,Mat_A)\n",
        "  print(\"\\n\\n Inv_Mat_A * Mat_A = \\n\", RHS_A)\n",
        "\n",
        "  #Evaluation of LHS_A & RHS_A are Identity matrix OR Not using Numpy EYE function\n",
        "  Is_LHS_Identity_Matrix = np.allclose(LHS_A, np.eye(3))\n",
        "  Is_RHS_Identity_Matrix = np.allclose(RHS_A, np.eye(3))\n",
        "\n",
        "  if(Is_LHS_Identity_Matrix & Is_RHS_Identity_Matrix):\n",
        "    print(\"\\n Hence Prove Mat_A*Inv_Mat_A = Inv_Mat_A*Mat_A = I\")\n",
        "  elif(Is_LHS_Identity_Matrix == False & Is_RHS_Identity_Matrix == False):\n",
        "    print(\"\\n Mat_A*Inv_Mat_A & Inv_Mat_A*Mat_A both are NOT IDENTITY Matrix\")\n",
        "  elif(Is_LHS_Identity_Matrix == False):\n",
        "   print(\"\\n Mat_A*Inv_Mat_A is not IDENTITY Matrix\")\n",
        "  elif(Is_RHS_Identity_Matrix == False):\n",
        "   print(\"\\n Inv_Mat_A*Mat_A is not IDENTITY Matrix\")\n",
        "else:\n",
        "  print(\"Sorry Mat_A Determinant is '0', Hence It's Inverse not possible.\")\n"
      ],
      "metadata": {
        "colab": {
          "base_uri": "https://localhost:8080/"
        },
        "id": "dVxC3GWPx-b5",
        "outputId": "dfdc1f21-ebb1-4a08-cb11-a107bac80a9c"
      },
      "execution_count": null,
      "outputs": [
        {
          "output_type": "stream",
          "name": "stdout",
          "text": [
            "Matrix Mat_A : \n",
            " [[ 2  3  5]\n",
            " [ 1 -4  2]\n",
            " [ 3  1 -1]]\n",
            "\n",
            "\n",
            " Determinant of Mat_A is :\n",
            " 90.0\n",
            "\n",
            "\n",
            " Inverse of Mat_A is: \n",
            " [[ 0.02222222  0.08888889  0.28888889]\n",
            " [ 0.07777778 -0.18888889  0.01111111]\n",
            " [ 0.14444444  0.07777778 -0.12222222]]\n",
            "\n",
            "\n",
            " Mat_A * Inv_Mat_A = \n",
            " [[ 1.00000000e+00 -5.55111512e-17  2.77555756e-17]\n",
            " [-5.55111512e-17  1.00000000e+00  0.00000000e+00]\n",
            " [ 0.00000000e+00  2.77555756e-17  1.00000000e+00]]\n",
            "\n",
            "\n",
            " Inv_Mat_A * Mat_A = \n",
            " [[ 1.00000000e+00 -1.11022302e-16  0.00000000e+00]\n",
            " [-8.67361738e-18  1.00000000e+00 -4.33680869e-17]\n",
            " [ 2.77555756e-17 -2.77555756e-17  1.00000000e+00]]\n",
            "\n",
            " Hense Prove Mat_A*Inv_Mat_A = Inv_Mat_A*Mat_A = I\n"
          ]
        }
      ]
    }
  ]
}