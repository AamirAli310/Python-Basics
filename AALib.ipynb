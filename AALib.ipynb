{
  "nbformat": 4,
  "nbformat_minor": 0,
  "metadata": {
    "colab": {
      "provenance": [],
      "authorship_tag": "ABX9TyPWlfO/em3rwwNLn/thWB0y",
      "include_colab_link": true
    },
    "kernelspec": {
      "name": "python3",
      "display_name": "Python 3"
    },
    "language_info": {
      "name": "python"
    }
  },
  "cells": [
    {
      "cell_type": "markdown",
      "metadata": {
        "id": "view-in-github",
        "colab_type": "text"
      },
      "source": [
        "<a href=\"https://colab.research.google.com/github/AamirAli310/Python-Basics/blob/main/AALib.ipynb\" target=\"_parent\"><img src=\"https://colab.research.google.com/assets/colab-badge.svg\" alt=\"Open In Colab\"/></a>"
      ]
    },
    {
      "cell_type": "code",
      "execution_count": 4,
      "metadata": {
        "id": "HskAqN1OMIg0"
      },
      "outputs": [],
      "source": [
        "#Python class represent to Module in a package context\n",
        "class Utils:\n",
        "  #Constructor of the class\n",
        "  def __init__(self):\n",
        "    print(\"Util Lib loaded\")\n",
        "\n",
        "#************ MY UTILITY FUNCTIONS START ***************\n",
        "\n",
        "#function to take user inputs as per user message & data type\n",
        "  def getUserInput(message, type):\n",
        "    userInput = type(input(message));\n",
        "    return userInput;\n",
        "\n",
        "#Function to print all keys of a dictionary dynamically\n",
        "  def printDictionary(dic):\n",
        "    #For loop on Dict's keys array\n",
        "    for key in dic.keys():\n",
        "      if len(key) > 4:\n",
        "        print(\"Item- \", key, \":\\t\",dic[key]);\n",
        "      else:\n",
        "        print(\"Item- \", key, \":\\t\\t\",dic[key])\n",
        "      print(\"\\n-----------------------------\");\n",
        "\n",
        "#************ MY UTILITY FUNCTIONS END ***************"
      ]
    }
  ]
}