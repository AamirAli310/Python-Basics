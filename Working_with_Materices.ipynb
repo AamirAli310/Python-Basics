{
  "nbformat": 4,
  "nbformat_minor": 0,
  "metadata": {
    "colab": {
      "provenance": [],
      "toc_visible": true,
      "authorship_tag": "ABX9TyPrkJ2Ww/80LwVx7LYsEegH",
      "include_colab_link": true
    },
    "kernelspec": {
      "name": "python3",
      "display_name": "Python 3"
    },
    "language_info": {
      "name": "python"
    }
  },
  "cells": [
    {
      "cell_type": "markdown",
      "metadata": {
        "id": "view-in-github",
        "colab_type": "text"
      },
      "source": [
        "<a href=\"https://colab.research.google.com/github/AamirAli310/Python-Basics/blob/main/Working_with_Materices.ipynb\" target=\"_parent\"><img src=\"https://colab.research.google.com/assets/colab-badge.svg\" alt=\"Open In Colab\"/></a>"
      ]
    },
    {
      "cell_type": "code",
      "execution_count": 1,
      "metadata": {
        "colab": {
          "base_uri": "https://localhost:8080/"
        },
        "id": "JT1T_nKUjZD7",
        "outputId": "e002c78b-42e7-4ad2-92db-75215b050d3d"
      },
      "outputs": [
        {
          "output_type": "stream",
          "name": "stdout",
          "text": [
            "Matrix M1: \n",
            " [[1 2 3]\n",
            " [3 4 5]\n",
            " [7 8 9]]\n"
          ]
        }
      ],
      "source": [
        "import numpy as np\n",
        "m1=np.array([[1,2,3],[3,4,5],[7,8,9]])\n",
        "print(\"Matrix M1: \\n\",m1)"
      ]
    },
    {
      "cell_type": "code",
      "source": [
        "import numpy as np\n",
        "\n",
        "mat_A=np.array([[1,2,3],[4,5,6],[7,2,9]])\n",
        "\n",
        "print(\"Matrix A: \\n\",mat_A)\n",
        "\n",
        "\n",
        "med = np.median(mat_A)\n",
        "print(med)\n",
        "\n",
        "m1_multiplication = np.dot(mat_A,mat_A)\n",
        "print(\"M1 Multiplcation: \\n\",m1_multiplication)\n",
        "\n",
        "det_mat_A = np.linalg.det(mat_A)\n",
        "\n",
        "print(\"M1 Determinent: \\n\",det_mat_A)\n",
        "\n",
        "rev_mat_A = np.linalg.inv(mat_A)\n",
        "print(\"Mat 1 Inverse is: \\n\", rev_mat_A)"
      ],
      "metadata": {
        "colab": {
          "base_uri": "https://localhost:8080/"
        },
        "id": "5XXqe2CNj35-",
        "outputId": "72259963-aa28-4a78-c47a-b617b6bad7c5"
      },
      "execution_count": 13,
      "outputs": [
        {
          "output_type": "stream",
          "name": "stdout",
          "text": [
            "Matrix M1: \n",
            " [[1 2 3]\n",
            " [3 4 5]\n",
            " [7 8 9]]\n",
            "4.0\n",
            "M1 Multiplcation: \n",
            " [[ 28  34  40]\n",
            " [ 50  62  74]\n",
            " [ 94 118 142]]\n",
            "M1 Determinent: \n",
            " -36.0\n",
            "Mat 1 Inverse is: \n",
            " [[-0.91666667  0.33333333  0.08333333]\n",
            " [-0.16666667  0.33333333 -0.16666667]\n",
            " [ 0.75       -0.33333333  0.08333333]]\n"
          ]
        }
      ]
    }
  ]
}